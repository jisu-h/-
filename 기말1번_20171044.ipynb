{
 "cells": [
  {
   "cell_type": "code",
   "execution_count": 1,
   "metadata": {},
   "outputs": [
    {
     "data": {
      "text/plain": [
       "'2.2.0'"
      ]
     },
     "execution_count": 1,
     "metadata": {},
     "output_type": "execute_result"
    }
   ],
   "source": [
    "import tensorflow as tf\n",
    "tf.__version__"
   ]
  },
  {
   "cell_type": "code",
   "execution_count": 2,
   "metadata": {},
   "outputs": [
    {
     "data": {
      "text/plain": [
       "'2.3.0-tf'"
      ]
     },
     "execution_count": 2,
     "metadata": {},
     "output_type": "execute_result"
    }
   ],
   "source": [
    "import tensorflow.keras\n",
    "tensorflow.keras.__version__"
   ]
  },
  {
   "cell_type": "code",
   "execution_count": 3,
   "metadata": {
    "collapsed": true
   },
   "outputs": [],
   "source": [
    "from tensorflow.keras.datasets import reuters\n",
    "\n",
    "(train_data, train_labels), (test_data, test_labels) = reuters.load_data(num_words=10000)"
   ]
  },
  {
   "cell_type": "code",
   "execution_count": 4,
   "metadata": {
    "collapsed": true
   },
   "outputs": [],
   "source": [
    "word_index = reuters.get_word_index()\n",
    "reverse_word_index = dict([(value, key) for (key, value) in word_index.items()])\n",
    "# 0, 1, 2는 '패딩', '문서 시작', '사전에 없음'을 위한 인덱스이므로 3을 뺍니다\n",
    "decoded_newswire = ' '.join([reverse_word_index.get(i - 3, '?') for i in train_data[0]])"
   ]
  },
  {
   "cell_type": "code",
   "execution_count": 5,
   "metadata": {},
   "outputs": [
    {
     "data": {
      "text/plain": [
       "'? ? ? said as a result of its december acquisition of space co it expects earnings per share in 1987 of 1 15 to 1 30 dlrs per share up from 70 cts in 1986 the company said pretax net should rise to nine to 10 mln dlrs from six mln dlrs in 1986 and rental operation revenues to 19 to 22 mln dlrs from 12 5 mln dlrs it said cash flow per share this year should be 2 50 to three dlrs reuter 3'"
      ]
     },
     "execution_count": 5,
     "metadata": {},
     "output_type": "execute_result"
    }
   ],
   "source": [
    "decoded_newswire"
   ]
  },
  {
   "cell_type": "code",
   "execution_count": 6,
   "metadata": {
    "collapsed": true
   },
   "outputs": [],
   "source": [
    "from tensorflow.keras.datasets import imdb\n",
    "from tensorflow.keras.preprocessing import sequence\n",
    "\n",
    "max_features = 10000  # 특성으로 사용할 단어의 수\n",
    "maxlen = 500  # 사용할 텍스트의 길이(가장 빈번한 max_features 개의 단어만 사용합니다)\n",
    "batch_size = 32\n",
    "\n",
    "train_data = sequence.pad_sequences(train_data, maxlen=maxlen)\n",
    "test_data = sequence.pad_sequences(test_data, maxlen=maxlen)\n"
   ]
  },
  {
   "cell_type": "code",
   "execution_count": 9,
   "metadata": {},
   "outputs": [
    {
     "name": "stdout",
     "output_type": "stream",
     "text": [
      "Epoch 1/10\n",
      "57/57 [==============================] - 14s 237ms/step - loss: 2.7576 - acc: 0.3038 - val_loss: 2.4321 - val_acc: 0.3450\n",
      "Epoch 2/10\n",
      "57/57 [==============================] - 15s 267ms/step - loss: 2.2508 - acc: 0.4344 - val_loss: 2.1489 - val_acc: 0.4697\n",
      "Epoch 3/10\n",
      "57/57 [==============================] - 13s 226ms/step - loss: 2.1061 - acc: 0.4785 - val_loss: 2.0372 - val_acc: 0.4964\n",
      "Epoch 4/10\n",
      "57/57 [==============================] - 12s 217ms/step - loss: 2.0654 - acc: 0.4887 - val_loss: 2.5254 - val_acc: 0.4302\n",
      "Epoch 5/10\n",
      "57/57 [==============================] - 13s 221ms/step - loss: 1.9224 - acc: 0.5111 - val_loss: 1.9142 - val_acc: 0.5164\n",
      "Epoch 6/10\n",
      "57/57 [==============================] - 15s 265ms/step - loss: 1.7785 - acc: 0.5425 - val_loss: 1.8401 - val_acc: 0.5331\n",
      "Epoch 7/10\n",
      "57/57 [==============================] - 13s 235ms/step - loss: 1.6266 - acc: 0.5932 - val_loss: 1.7562 - val_acc: 0.5565\n",
      "Epoch 8/10\n",
      "57/57 [==============================] - 13s 229ms/step - loss: 1.4970 - acc: 0.6335 - val_loss: 1.7466 - val_acc: 0.5576\n",
      "Epoch 9/10\n",
      "57/57 [==============================] - 13s 231ms/step - loss: 1.3791 - acc: 0.6530 - val_loss: 1.8300 - val_acc: 0.5398\n",
      "Epoch 10/10\n",
      "57/57 [==============================] - 14s 251ms/step - loss: 1.2635 - acc: 0.6849 - val_loss: 1.6633 - val_acc: 0.5693\n"
     ]
    }
   ],
   "source": [
    "from tensorflow.keras.models import Sequential\n",
    "from tensorflow.keras.layers import Embedding, SimpleRNN\n",
    "from tensorflow.keras.layers import Dense\n",
    "\n",
    "model = Sequential()\n",
    "model.add(Embedding(max_features,46))\n",
    "model.add(SimpleRNN(46))\n",
    "model.add(Dense(46, activation='softmax'))\n",
    "\n",
    "model.compile(optimizer='rmsprop', loss='sparse_categorical_crossentropy', metrics=['acc'])\n",
    "history = model.fit(train_data, train_labels,\n",
    "                    epochs=10,\n",
    "                    batch_size=128,\n",
    "                    validation_split=0.2)"
   ]
  },
  {
   "cell_type": "code",
   "execution_count": 10,
   "metadata": {
    "collapsed": true
   },
   "outputs": [],
   "source": [
    "import matplotlib.pyplot as plt"
   ]
  },
  {
   "cell_type": "code",
   "execution_count": 11,
   "metadata": {},
   "outputs": [
    {
     "data": {
      "image/png": "[encoded data removed]",
      "text/plain": [
       "<matplotlib.figure.Figure at 0x15e8f0fed68>"
      ]
     },
     "metadata": {},
     "output_type": "display_data"
    },
    {
     "data": {
      "image/png": "[encoded data removed]",
      "text/plain": [
       "<matplotlib.figure.Figure at 0x15e8e014a20>"
      ]
     },
     "metadata": {},
     "output_type": "display_data"
    }
   ],
   "source": [
    "acc = history.history['acc']\n",
    "val_acc = history.history['val_acc']\n",
    "loss = history.history['loss']\n",
    "val_loss = history.history['val_loss']\n",
    "\n",
    "epochs = range(1, len(acc) + 1)\n",
    "\n",
    "plt.plot(epochs, acc, 'bo', label='Training acc')\n",
    "plt.plot(epochs, val_acc, 'b', label='Validation acc')\n",
    "plt.title('Training and validation accuracy')\n",
    "plt.legend()\n",
    "\n",
    "plt.figure()\n",
    "\n",
    "plt.plot(epochs, loss, 'bo', label='Training loss')\n",
    "plt.plot(epochs, val_loss, 'b', label='Validation loss')\n",
    "plt.title('Training and validation loss')\n",
    "plt.legend()\n",
    "\n",
    "plt.show()"
   ]
  },
  {
   "cell_type": "code",
   "execution_count": 12,
   "metadata": {},
   "outputs": [
    {
     "name": "stdout",
     "output_type": "stream",
     "text": [
      "Epoch 1/8\n",
      "57/57 [==============================] - 12s 219ms/step - loss: 2.6747 - acc: 0.2983 - val_loss: 2.4210 - val_acc: 0.3450\n",
      "Epoch 2/8\n",
      "57/57 [==============================] - 14s 248ms/step - loss: 2.3481 - acc: 0.3737 - val_loss: 2.3180 - val_acc: 0.3773\n",
      "Epoch 3/8\n",
      "57/57 [==============================] - 15s 260ms/step - loss: 2.1643 - acc: 0.4509 - val_loss: 2.2630 - val_acc: 0.3973\n",
      "Epoch 4/8\n",
      "57/57 [==============================] - 12s 219ms/step - loss: 2.0013 - acc: 0.4945 - val_loss: 2.2446 - val_acc: 0.4018\n",
      "Epoch 5/8\n",
      "57/57 [==============================] - 13s 226ms/step - loss: 1.8348 - acc: 0.5332 - val_loss: 2.2698 - val_acc: 0.4073\n",
      "Epoch 6/8\n",
      "57/57 [==============================] - 14s 250ms/step - loss: 1.6521 - acc: 0.5755 - val_loss: 2.2508 - val_acc: 0.4062\n",
      "Epoch 7/8\n",
      "57/57 [==============================] - 16s 273ms/step - loss: 1.4913 - acc: 0.6118 - val_loss: 2.2008 - val_acc: 0.4213\n",
      "Epoch 8/8\n",
      "57/57 [==============================] - 15s 263ms/step - loss: 1.3427 - acc: 0.6557 - val_loss: 2.3368 - val_acc: 0.4096\n"
     ]
    }
   ],
   "source": [
    "model = Sequential()\n",
    "model.add(Embedding(max_features,46))\n",
    "model.add(SimpleRNN(46))\n",
    "model.add(Dense(46, activation='softmax'))\n",
    "\n",
    "model.compile(optimizer='rmsprop', loss='sparse_categorical_crossentropy', metrics=['acc'])\n",
    "history = model.fit(train_data, train_labels,\n",
    "                    epochs=8,\n",
    "                    batch_size=128,\n",
    "                    validation_split=0.2)"
   ]
  },
  {
   "cell_type": "code",
   "execution_count": 13,
   "metadata": {},
   "outputs": [
    {
     "name": "stdout",
     "output_type": "stream",
     "text": [
      "Epoch 1/8\n",
      "18/18 [==============================] - 10s 535ms/step - loss: 1.3954 - acc: 0.6474\n",
      "Epoch 2/8\n",
      "18/18 [==============================] - 11s 633ms/step - loss: 1.3019 - acc: 0.6762\n",
      "Epoch 3/8\n",
      "18/18 [==============================] - 12s 685ms/step - loss: 1.2308 - acc: 0.6943\n",
      "Epoch 4/8\n",
      "18/18 [==============================] - 13s 725ms/step - loss: 1.1833 - acc: 0.7082\n",
      "Epoch 5/8\n",
      "18/18 [==============================] - 10s 558ms/step - loss: 1.0597 - acc: 0.7433\n",
      "Epoch 6/8\n",
      "18/18 [==============================] - 11s 596ms/step - loss: 1.0076 - acc: 0.7556\n",
      "Epoch 7/8\n",
      "18/18 [==============================] - 12s 647ms/step - loss: 0.9462 - acc: 0.7730\n",
      "Epoch 8/8\n",
      "18/18 [==============================] - 11s 597ms/step - loss: 0.8847 - acc: 0.7896\n",
      "71/71 [==============================] - 3s 38ms/step - loss: 2.3884 - acc: 0.4207\n"
     ]
    }
   ],
   "source": [
    "model.fit(train_data, train_labels, epochs=8, batch_size=512)\n",
    "results = model.evaluate(test_data, test_labels)"
   ]
  },
  {
   "cell_type": "code",
   "execution_count": 14,
   "metadata": {},
   "outputs": [
    {
     "data": {
      "text/plain": [
       "[2.3883886337280273, 0.4207479953765869]"
      ]
     },
     "execution_count": 14,
     "metadata": {},
     "output_type": "execute_result"
    }
   ],
   "source": [
    "results "
   ]
  },
  {
   "cell_type": "code",
   "execution_count": null,
   "metadata": {
    "collapsed": true
   },
   "outputs": [],
   "source": []
  }
 ],
 "metadata": {
  "kernelspec": {
   "display_name": "Python 3",
   "language": "python",
   "name": "python3"
  },
  "language_info": {
   "codemirror_mode": {
    "name": "ipython",
    "version": 3
   },
   "file_extension": ".py",
   "mimetype": "text/x-python",
   "name": "python",
   "nbconvert_exporter": "python",
   "pygments_lexer": "ipython3",
   "version": "3.6.1"
  }
 },
 "nbformat": 4,
 "nbformat_minor": 2
}
